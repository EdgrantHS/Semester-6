{
 "cells": [
  {
   "cell_type": "markdown",
   "id": "3406ff14",
   "metadata": {},
   "source": [
    "# Tugas 3 Setelah UTS - Berpikir Komputasional\n",
    "\n",
    "```plaintext\n",
    "Nama: Edgrant Henderson Suryajaya\n",
    "NPM: 2206025016\n",
    "```"
   ]
  },
  {
   "cell_type": "markdown",
   "id": "076afa1c",
   "metadata": {},
   "source": [
    "\n",
    "# Latihan List, Tuple, Dictionary\n",
    "\n",
    "29 April 2025\n",
    "\n",
    "Koperasi FTUI menginginkan pembagian diskon untuk pelanggan yang beruntung dengan pelanggan data dalam bentuk dictionary dan data yang dapat ditampilkan. Persyaratan program beserta data pelanggan adalah\n",
    "\n",
    "* Data pelanggan berupa nama pelanggan, hari lahir, bulan lahir, tahun lahir, dan Pelanggan di bagi dalam pelanggan ganjil dan pelanggan genap, dan barang yang dibeli beserta harganya.\n",
    "* Cek pelanggan dictionary, tanggal lahir\n",
    "    * Jika ganjil, buat status \"konsumen ganjil\"\n",
    "    * Jika genap, buat status \"konsumen genap\"\n",
    "    * data dictionary update\n",
    "* Buat angka random 1 sampai 10, bandingkan dengan nomor pelanggan\n",
    "    * Jika status pelanggan ganjil\n",
    "        * mendapat 30% diskon untuk setiap item barang\n",
    "        * tambah diskon pada dictionary pelanggan\n",
    "        * dan display pesan tentang angka keberuntungan dan besar diskon\n",
    "    * Jika status pelanggan genap\n",
    "        * mendapat 40% diskon untuk setiap item barang\n",
    "        * tambah diskon pada dictionary pelanggan\n",
    "        * dan display pesan tentang angka keberuntungan dan besar diskon\n",
    "    * Jika angkan random dan status tidak sama\n",
    "        * Pelanggan dapat 0% diskon\n",
    "        * Beri pesan pada pelanggan untuk datang kembali ke koperasi dan mencoba lain kali"
   ]
  },
  {
   "cell_type": "code",
   "execution_count": 1,
   "id": "97c08a82",
   "metadata": {},
   "outputs": [],
   "source": [
    "# Random\n",
    "import random as rnd"
   ]
  },
  {
   "cell_type": "code",
   "execution_count": 4,
   "id": "649d754c",
   "metadata": {},
   "outputs": [
    {
     "name": "stdout",
     "output_type": "stream",
     "text": [
      "--- Input Data Pelanggan ---\n",
      "\n",
      "--- Input Barang yang Dibeli ---\n"
     ]
    }
   ],
   "source": [
    "# Input Data\n",
    "print(\"--- Input Data Pelanggan ---\")\n",
    "\n",
    "nama_pelanggan_input = input(\"Masukkan Nama Pelanggan: \")\n",
    "hari_lahir_input = int(input(\"Masukkan Tanggal Lahir (contoh: 15): \"))\n",
    "bulan_lahir_input = input(\"Masukkan Bulan Lahir (contoh: 8): \")\n",
    "tahun_lahir_input = input(\"Masukkan Tahun Lahir (contoh: 2004): \")\n",
    "\n",
    "print(\"\\n--- Input Barang yang Dibeli ---\")\n",
    "barang_dibeli_list = []\n",
    "# Loop untuk menginput barang dan harga\n",
    "while True:\n",
    "    nama_barang = input(\"Masukkan Nama Barang (ketik 'selesai' untuk mengakhiri): \")\n",
    "    if nama_barang.lower() == 'selesai':\n",
    "        break # Keluar dari loop jika pengguna mengetik 'selesai'\n",
    "\n",
    "    harga_barang = float(input(f\"Masukkan Harga {nama_barang}: \"))\n",
    "    barang_dibeli_list.append({nama_barang: harga_barang})"
   ]
  },
  {
   "cell_type": "code",
   "execution_count": null,
   "id": "00047f4e",
   "metadata": {},
   "outputs": [],
   "source": [
    "# Variabel pelanggan\n",
    "pelanggan = {\n",
    "    \"nama_pelanggan\": nama_pelanggan_input,\n",
    "    \"hari_lahir\": hari_lahir_input,\n",
    "    \"bulan_lahir\": bulan_lahir_input,\n",
    "    \"tahun_lahir\": tahun_lahir_input,\n",
    "    \"barang_dibeli\": barang_dibeli_list,\n",
    "    # Status dan diskon (nilai awal)\n",
    "    \"status_pelanggan\": None,\n",
    "    \"diskon_persentase\": 0,\n",
    "    \"diskon_amount_total\": 0\n",
    "}"
   ]
  },
  {
   "cell_type": "code",
   "execution_count": 8,
   "id": "675b4c3d",
   "metadata": {},
   "outputs": [
    {
     "name": "stdout",
     "output_type": "stream",
     "text": [
      "\n",
      "--- Data Pelanggan yang Diinput ---\n",
      "{'nama_pelanggan': 'Halo hi', 'hari_lahir': 2, 'bulan_lahir': '3', 'tahun_lahir': '2020', 'barang_dibeli': [{'Tes1': 1.0}, {'tes2': 2.0}], 'status_pelanggan': None, 'diskon_persentase': 0, 'diskon_amount_total': 0}\n"
     ]
    }
   ],
   "source": [
    "print(\"\\n--- Data Pelanggan yang Diinput ---\")\n",
    "print(pelanggan)"
   ]
  },
  {
   "cell_type": "code",
   "execution_count": 10,
   "id": "1e9e8d16",
   "metadata": {},
   "outputs": [],
   "source": [
    "# Status tanggal lahir\n",
    "\n",
    "tanggal_lahir = pelanggan[\"hari_lahir\"]\n",
    "if tanggal_lahir % 2 != 0:\n",
    "    pelanggan[\"status_pelanggan\"] = \"konsumen ganjil\"\n",
    "else:\n",
    "    pelanggan[\"status_pelanggan\"] = \"konsumen genap\""
   ]
  },
  {
   "cell_type": "code",
   "execution_count": 11,
   "id": "b1a78eef",
   "metadata": {},
   "outputs": [
    {
     "name": "stdout",
     "output_type": "stream",
     "text": [
      "konsumen genap\n"
     ]
    }
   ],
   "source": [
    "print(pelanggan[\"status_pelanggan\"])"
   ]
  },
  {
   "cell_type": "code",
   "execution_count": 14,
   "id": "f0f61a43",
   "metadata": {},
   "outputs": [],
   "source": [
    "total_harga_sebelum_diskon = 0\n",
    "\n",
    "for item_dict in pelanggan[\"barang_dibeli\"]:\n",
    "    # Setiap item_dict berisi satu pasangan key-value (Nama Barang: Harga)\n",
    "    # Mengambil nilai (harga) dari dictionary item\n",
    "    for harga in item_dict.values():\n",
    "        total_harga_sebelum_diskon += harga # Menambahkan harga ke total\n",
    "\n",
    "diskon_amount_total = 0\n",
    "pesan_untuk_pelanggan = \"\""
   ]
  },
  {
   "cell_type": "code",
   "execution_count": null,
   "id": "8fcf1a78",
   "metadata": {},
   "outputs": [
    {
     "name": "stdout",
     "output_type": "stream",
     "text": [
      "Maaf, Anda tidak beruntung.\n"
     ]
    }
   ],
   "source": [
    "# Memeriksa apakah angka keberuntungan cocok dengan nomor perbandingan (tanggal lahir)\n",
    "if tanggal_lahir == rnd.randint(1, 31): # Dalam soal diminta 1 sampai 10, tetapi ulang tahun ada 1-31, jadi ditulis ulang jadi 1-31\n",
    "    if pelanggan[\"status_pelanggan\"] == \"konsumen ganjil\":\n",
    "        pelanggan[\"diskon_persentase\"] = 30\n",
    "        print(\"Selamat! Anda beruntung dan Anda mendapat diskon 30%!\")\n",
    "    elif pelanggan[\"status_pelanggan\"] == \"konsumen genap\":\n",
    "        pelanggan[\"diskon_persentase\"] = 40\n",
    "        print(\"Selamat! Anda beruntung dan Anda mendapat diskon 40%!\")\n",
    "else:\n",
    "    pelanggan[\"diskon_persentase\"] = 0\n",
    "    print(\"Maaf, Anda tidak beruntung.\")\n",
    "\n",
    "\n",
    "  # Menghitung jumlah total diskon\n",
    "diskon_amount_total = total_harga_sebelum_diskon * (pelanggan[\"diskon_persentase\"] / 100)\n",
    "pelanggan[\"diskon_amount_total\"] = diskon_amount_total"
   ]
  },
  {
   "cell_type": "code",
   "execution_count": 24,
   "id": "b7267d84",
   "metadata": {},
   "outputs": [
    {
     "data": {
      "text/plain": [
       "0.0"
      ]
     },
     "execution_count": 24,
     "metadata": {},
     "output_type": "execute_result"
    }
   ],
   "source": [
    "pelanggan[\"diskon_amount_total\"]"
   ]
  },
  {
   "cell_type": "code",
   "execution_count": 59,
   "id": "92f03db4",
   "metadata": {},
   "outputs": [
    {
     "name": "stdout",
     "output_type": "stream",
     "text": [
      "\n",
      "--- Hasil Program ---\n",
      "Data Pelanggan Akhir: {'nama_pelanggan': 'Halo hi', 'hari_lahir': 2, 'bulan_lahir': '3', 'tahun_lahir': '2020', 'barang_dibeli': [{'Tes1': 1.0}, {'tes2': 2.0}], 'status_pelanggan': 'konsumen genap', 'diskon_persentase': 0, 'diskon_amount_total': 0.0}\n",
      "Total Harga Sebelum Diskon: Rp3.00\n",
      "Persentase Diskon Diterima: 0%\n",
      "Total Diskon Diterima: Rp0.00\n",
      "Pesan untuk Pelanggan: \n",
      "Total Harga Setelah Diskon: Rp3.00\n"
     ]
    }
   ],
   "source": [
    "print(\"\\n--- Hasil Program ---\")\n",
    "print(f\"Data Pelanggan Akhir: {pelanggan}\")\n",
    "print(f\"Total Harga Sebelum Diskon: Rp{total_harga_sebelum_diskon:,.2f}\")\n",
    "print(f\"Persentase Diskon Diterima: {pelanggan['diskon_persentase']}%\")\n",
    "print(f\"Total Diskon Diterima: Rp{diskon_amount_total:,.2f}\")\n",
    "print(f\"Pesan untuk Pelanggan: {pesan_untuk_pelanggan}\")\n",
    "\n",
    "total_harga_setelah_diskon = total_harga_sebelum_diskon - diskon_amount_total\n",
    "print(f\"Total Harga Setelah Diskon: Rp{total_harga_setelah_diskon:,.2f}\")"
   ]
  }
 ],
 "metadata": {
  "kernelspec": {
   "display_name": ".venv",
   "language": "python",
   "name": "python3"
  },
  "language_info": {
   "codemirror_mode": {
    "name": "ipython",
    "version": 3
   },
   "file_extension": ".py",
   "mimetype": "text/x-python",
   "name": "python",
   "nbconvert_exporter": "python",
   "pygments_lexer": "ipython3",
   "version": "3.13.2"
  }
 },
 "nbformat": 4,
 "nbformat_minor": 5
}
