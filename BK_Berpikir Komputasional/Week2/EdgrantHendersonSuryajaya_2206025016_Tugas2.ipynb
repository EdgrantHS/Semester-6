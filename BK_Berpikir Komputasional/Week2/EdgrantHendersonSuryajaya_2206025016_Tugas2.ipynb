{
  "nbformat": 4,
  "nbformat_minor": 0,
  "metadata": {
    "colab": {
      "provenance": []
    },
    "kernelspec": {
      "name": "python3",
      "display_name": "Python 3"
    },
    "language_info": {
      "name": "python"
    }
  },
  "cells": [
    {
      "cell_type": "code",
      "source": [
        "15+14"
      ],
      "metadata": {
        "colab": {
          "base_uri": "https://localhost:8080/"
        },
        "id": "sfcd-tjYZxdl",
        "outputId": "eb15dc0d-5895-4555-aae6-d8ed5f3fd037"
      },
      "execution_count": 1,
      "outputs": [
        {
          "output_type": "execute_result",
          "data": {
            "text/plain": [
              "29"
            ]
          },
          "metadata": {},
          "execution_count": 1
        }
      ]
    },
    {
      "cell_type": "code",
      "source": [
        "import math as m\n",
        "\n",
        "m.factorial(6)"
      ],
      "metadata": {
        "colab": {
          "base_uri": "https://localhost:8080/"
        },
        "id": "kYo3PiaYZyt8",
        "outputId": "48da5be0-2b3e-46af-b9eb-423ac680af48"
      },
      "execution_count": 3,
      "outputs": [
        {
          "output_type": "execute_result",
          "data": {
            "text/plain": [
              "720"
            ]
          },
          "metadata": {},
          "execution_count": 3
        }
      ]
    },
    {
      "cell_type": "code",
      "source": [
        "import sympy as s\n",
        "\n",
        "s.fibonacci(4)"
      ],
      "metadata": {
        "colab": {
          "base_uri": "https://localhost:8080/",
          "height": 37
        },
        "id": "tzvu_ajyaEzj",
        "outputId": "4de203d2-2402-4a34-e598-7021822e3a70"
      },
      "execution_count": 6,
      "outputs": [
        {
          "output_type": "execute_result",
          "data": {
            "text/plain": [
              "3"
            ],
            "text/latex": "$\\displaystyle 3$"
          },
          "metadata": {},
          "execution_count": 6
        }
      ]
    },
    {
      "cell_type": "code",
      "source": [
        "import math as m\n",
        "\n",
        "def degree_to_rad(degree):\n",
        "    return degree*m.pi/180\n",
        "\n",
        "m.sin(degree_to_rad(30)) + m.sin(degree_to_rad(60))"
      ],
      "metadata": {
        "colab": {
          "base_uri": "https://localhost:8080/"
        },
        "id": "Og43SXKBZ5GP",
        "outputId": "7bcdbd35-92c4-4204-ff32-9758cd813588"
      },
      "execution_count": 4,
      "outputs": [
        {
          "output_type": "execute_result",
          "data": {
            "text/plain": [
              "1.3660254037844386"
            ]
          },
          "metadata": {},
          "execution_count": 4
        }
      ]
    },
    {
      "cell_type": "markdown",
      "source": [
        "# Garden Problem\n",
        "\n",
        "![gambar soal 1](http://cdn.digilabdte.com/u/PuwOjb.png)\n",
        "![gambar soal 2](http://cdn.digilabdte.com/u/VtSjx3.png)\n",
        "![gambar soal 3](http://cdn.digilabdte.com/u/PO0JIx.png)\n",
        "\n",
        "## Dekomposisi\n",
        "\n",
        "- Taman ingin ditanam bunga\n",
        "- Menanam bunga perlu kompos dan biji bunga\n",
        "- Terdapat 4 pot\n",
        "  - pot 1, di depan rumah dengan ukuran 3sqm\n",
        "  - pot 2, di depan rumah dengan ukuran 5sqm\n",
        "  - pot 3, di ruang tamu dengan ukuran 6sqm\n",
        "  - pot 4, di belakang rumah dengan ukuran 10sqm\n",
        "  - Pot 3 dan 4 memiliki 2 pot, sisanya hanya 1 pot\n",
        "\n",
        "## Pattern Recognition\n",
        "\n",
        "- Pot-pot di depan rumah memiliki ukuran kecil\n",
        "- Pot di belakang rumah memiliki ukurat besar\n",
        "- Pot di dekat ruang tamu memiliki ukurang sedang\n",
        "- Kompos dan biji bunga dekat dengan salah satu pot di depan rumah dan pot di belakang rumah\n",
        "\n",
        "## Abstraction\n",
        "\n",
        "- Algoritma ingin mementingkan pot yang dilihat banyak orang terlebih dahulu, lalu mementingakan sekunder jarak dari kompos agar penanam tidak terlalu lelah\n",
        "- Pot penting adalah pot 1 dan 2 karena didepan rumah dan dilihat banyak orang\n",
        "- Pot dari urutan terdekat dari kompos adalah 4 -> 1 -> 3 -> 2\n",
        "\n",
        "## Algorithm\n",
        "\n",
        "1. Memilih pot terdekat yang dilihat banyak orang\n",
        "2. Jika pot yang dilihat banyak orang masih ada, balik ke nomor 1\n",
        "3. Jika pot yang dilihat banyak orang sudah tidak ada, pilih pot yang terdekat\n",
        "4. jika pot masih ada, balik ke nomor 3\n",
        "\n",
        "### Expektasi Output\n",
        "\n",
        "1 -> 2 -> 4 -> 6\n"
      ],
      "metadata": {
        "id": "Ol5GJ8AzmPwf"
      }
    },
    {
      "cell_type": "markdown",
      "source": [
        "  "
      ],
      "metadata": {
        "id": "SP6d5-fNaX1U"
      }
    },
    {
      "cell_type": "markdown",
      "source": [
        "# Case Study 1\n",
        "\n",
        "![gambar soal](http://cdn.digilabdte.com/u/xoIL3P.png)\n",
        "\n",
        "## Dekomposisi\n",
        "\n",
        "Terdapat 3 benda: lingkaran, belah ketuap, dan segi tiga\n",
        "\n",
        "## Pattern Recognition\n",
        "\n",
        "- Jumlah bentuk pada B lebih banyak dibanding A\n",
        "- Jumlah kolom B 2, sedangkan A 1\n",
        "- Pada B, perubahan bentuk di belakang sangat cepat, sedangkan perubahan bentuk di depan lambat\n",
        "\n",
        "## Abstraction\n",
        "\n",
        "- Jumlah kolom setiap perubahan huruf, bertambah 1. Oleh karena itu, C akan memiliki 3 kolom dan D, jika ada, akan memiliki 4 kolom. Secara umum, setiap berubah 1 huruf, akan bertambah 1 kolom.\n",
        "- Jumlah baris setiap perubahan huruf, dikasi 3 dari sebelumnya.\n",
        "- Bentuk pada kiri lebih signifikan dibanding yang kanan, atau dalam kata lain bentuk pada kiri akan berubah semakin lambat dibanding kanan.\n",
        "\n",
        "## Algorithm\n",
        "\n",
        "```pseudocode\n",
        "bentuk = [lingkaran, belah_ketupat, segitiga]\n",
        "\n",
        "for (bentuk_yang_diprint_i in bentuk):\n",
        "    for (bentuk_yang_diprint_j in bentuk):\n",
        "       for (bentuk_yang_diprint_k in bentuk):\n",
        "          # for loop dst. sampai tingkat huruf (c akan memliki 3 for loop)\n",
        "              print(bentuk_yang_diprint_i)\n",
        "              print(bentuk_yang_diprint_j)\n",
        "              print(bentuk_yang_diprint_k)\n",
        "              print(\"\\n\")\n",
        "              # dst. sampai tingkat huruf (c akan memiliki 3 print)\n",
        "    \n",
        "print(\"Program kelar dijalankan\")\n",
        "```\n",
        "\n",
        "Algoritma ini menggunakan bersarang for loop sebanyak jumlah tingkat huruf yang akan di print. Contohnya pada C, akan ada 3 for loop, karena ada 3 kolom, B akan memiliki 2 for loop, dan D akan memiliki 4 for loop. Setiap for loop akan mencetak 1 kolom dengan for loop terdalam berubah paling cepat. Jumlah print juga akan bertambah 1 setiap berubah 1 huruf.\n",
        "\n",
        "### Expektasi Output\n",
        "\n",
        "![expektasi output](http://cdn.digilabdte.com/u/kjuh1m.png)\n",
        "\n"
      ],
      "metadata": {
        "id": "efZ0rlRlbYTE"
      }
    },
    {
      "cell_type": "markdown",
      "source": [
        "# Case Study 2\n",
        "\n",
        "> As a head coach of a kids soccer team with 12-15 kids enrolled. After beating your arch rival in a tough match, your assistant decides to order the food for post match celebration. The food will probably cost $12 per kid.\n",
        "Use the pillars of computational thinking to help Coach Ted and Beard to estimate the total cost of food!\n",
        "\n",
        "## Dekomposisi\n",
        "\n",
        "- Terdapat 12 - 15 Siswa\n",
        "- Setiap anak akan diberi makan setelah match mereka\n",
        "- Harga makanan $12 per anak\n",
        "\n",
        "## Pattern Recognition\n",
        "\n",
        "- Setiap anak akan mendapat makanan\n",
        "- Setiap makanan kurang lebih $12\n",
        "\n",
        "## Abstraction\n",
        "\n",
        "- Harga total makanan adalah $12 dikasih jumlah anak\n",
        "- Match antar siswa tidak penting\n",
        "\n",
        "## Algorithm\n",
        "\n",
        "```pseudocode\n",
        "jumlah_anak = 12 sampai 15\n",
        "harga_makanan = 12\n",
        "\n",
        "total_harga_makanan = harga_makanan * jumlah_anak\n",
        "```\n",
        "\n",
        "### Expektasi Output\n",
        "\n",
        "```txt\n",
        "total_harga_makanan = 144 sampai 180\n",
        "```\n",
        "\n"
      ],
      "metadata": {
        "id": "qFShsdRaiEyV"
      }
    }
  ]
}