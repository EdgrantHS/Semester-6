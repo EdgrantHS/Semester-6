{
 "cells": [
  {
   "cell_type": "markdown",
   "id": "3406ff14",
   "metadata": {},
   "source": [
    "# Tugas 2 (Kuis) Setelah UTS - Berpikir Komputasional\n",
    "\n",
    "```plaintext\n",
    "Nama: Edgrant Henderson Suryajaya\n",
    "NPM: 2206025016\n",
    "```"
   ]
  },
  {
   "cell_type": "markdown",
   "id": "d80205f3",
   "metadata": {},
   "source": [
    "## Diagram Flowchart High Level\n",
    "\n",
    "![diagramFlowchart](https://i.ibb.co.com/pBLqqhLh/Untitled-diagram-2025-04-22-100924.png)"
   ]
  },
  {
   "cell_type": "code",
   "execution_count": 1,
   "id": "af009c2b",
   "metadata": {},
   "outputs": [],
   "source": [
    "# Program Kuitansi Toko FTUI\n",
    "\n",
    "# Constants\n",
    "## Inventaris\n",
    "JUMLAH_TEMPAT_TIDUR = 35\n",
    "JUMLAH_KURSI_MAKAN = 30\n",
    "JUMLAH_KURSI_KERJA = 40\n",
    "\n",
    "## Harga dan Berat\n",
    "HARGA_TEMPAT_TIDUR = 10000 # 10 juta\n",
    "HARGA_KURSI_MAKAN = 8000 # 8 juta\n",
    "HARGA_KURSI_KERJA = 6000 # 6 juta\n",
    "BERAT_TEMPAT_TIDUR = 30 # 30 kg\n",
    "BERAT_KURSI_MAKAN = 20 # 20 kg\n",
    "BERAT_KURSI_KERJA = 10 # 10 kg\n",
    "\n",
    "## Pajak\n",
    "HARGA_PAJAK_TIER1 = 0.05 # 5%\n",
    "HARGA_PAJAK_TIER2 = 0.075 # 5%\n",
    "HARGA_PAJAK_TIER3 = 0.05 # 5%\n",
    "BATAS_PAJAK_TIER1 = 15000 # 15 juta | Pajak 5% >= 15jt\n",
    "BATAS_PAJAK_TIER2 = 10000 # 10 juta | Pajak 7.5% >= 10jt, Pajak 5% < 10jt\n",
    "\n",
    "## Biaya Pengiriman\n",
    "HARGA_BERAT_TIER1 = 200 # 200rb\n",
    "HARGA_BERAT_TIER2 = 150 # 200rb\n",
    "HARGA_BERAT_TIER3 = 100 # 200rb\n",
    "BATAS_BERAT_TIER1 = 30 # 30 kg | Biaya 200rb >= 30kg\n",
    "BATAS_BERAT_TIER2 = 20 # 20 kg | Biaya 150rb >= 20kg, Biaya 100rb < 20kg\n",
    "\n",
    "## Diskon\n",
    "DISKON_TIER1 = 0.05 # 5%\n",
    "DISKON_TIER2 = 0.03 # 3%\n",
    "BATAS_HARGA_DISKON = 20000 # 20 juta | If >= 20jt, Diskon\n",
    "BATAS_BERAT_DISKON = 40 # 40 kg | If >= 40kg, Diskon 5%, else 3%\n",
    "\n",
    "## Pengiriman (Waktu dan Biaya)\n",
    "BATAS_WAKTU_PENGIRIMAN = 11 # 11:00\n",
    "HARGA_WAKTU_PENGIRIMAN = 50 # 50rb | if >= 11:00, Biaya 50rb dan waktu pengiriman 1 hari"
   ]
  },
  {
   "cell_type": "code",
   "execution_count": null,
   "id": "69c8421c",
   "metadata": {},
   "outputs": [],
   "source": [
    "# Program Kuitansi Toko FTUI\n",
    "\n",
    "# Inisialisasi variabel\n",
    "\n",
    "# set sisa stok awal sebagai jumlah barang yang ada\n",
    "stok_tempat_tidur = JUMLAH_TEMPAT_TIDUR\n",
    "stok_kursi_makan = JUMLAH_KURSI_MAKAN\n",
    "stok_kursi_kerja = JUMLAH_KURSI_KERJA\n",
    "\n",
    "jumlah_tempat_tidur = 0\n",
    "jumlah_kursi_makan = 0\n",
    "jumlah_kursi_kerja = 0\n",
    "total_harga = 0\n",
    "total_berat = 0\n",
    "nama_pembeli = \"\"\n",
    "npm_pembeli = \"\"\n",
    "alamat_pembeli = \"\"\n",
    "waktu_pembelian = 0\n",
    "biaya_pengiriman = 0\n",
    "diskon = 0\n",
    "pajak = 0\n",
    "total_biaya = 0\n",
    "waktu_pengiriman = 0"
   ]
  },
  {
   "cell_type": "code",
   "execution_count": null,
   "id": "5908c431",
   "metadata": {},
   "outputs": [
    {
     "name": "stdout",
     "output_type": "stream",
     "text": [
      "=== TOKO FTUI ===\n"
     ]
    },
    {
     "name": "stdout",
     "output_type": "stream",
     "text": [
      "Masukkan alamat pembeli: \n",
      "1. Depok\n",
      "2. Jakarta\n",
      "3. Bogor\n",
      "Stok barang yang tersedia:\n",
      "Tempat Tidur:  34\n",
      "Kursi Makan:  29\n",
      "Kursi Kerja:  39\n",
      "\n"
     ]
    }
   ],
   "source": [
    "# Program Kuitansi Toko FTUI\n",
    "\n",
    "# Input user\n",
    "\n",
    "# Input data pembeli\n",
    "print(\"=== TOKO FTUI ===\")\n",
    "nama_pembeli = input(\"Masukkan nama pembeli: \")\n",
    "npm_pembeli = input(\"Masukkan NPM pembeli: \")\n",
    "temp_var_for_alamat = 0\n",
    "print(\"Masukkan alamat pembeli: \")\n",
    "print(\"1. Depok\")\n",
    "print(\"2. Jakarta\")\n",
    "print(\"3. Bogor\")\n",
    "alamat_pembeli = input(\"Pilih alamat pembeli (1/2/3): \")\n",
    "waktu_pembelian = int(input(\"Sekarang jam berapa? (0-23): \"))\n",
    "\n",
    "# Sisa stok barang\n",
    "print(\"Stok barang yang tersedia:\")\n",
    "print(\"Tempat Tidur: \", stok_tempat_tidur)\n",
    "print(\"Meja-Kursi Makan: \", stok_kursi_makan)\n",
    "print(\"Meja-Kursi Kerja: \", stok_kursi_kerja)\n",
    "print(\"\")\n",
    "\n",
    "# Input jumlah barang yang ingin dibeli\n",
    "jumlah_tempat_tidur = int(input(\"Masukkan jumlah tempat tidur yang ingin dibeli: \"))\n",
    "if (jumlah_tempat_tidur > stok_tempat_tidur):\n",
    "  print(\"Stok tempat tidur tidak cukup!\")\n",
    "  jumlah_tempat_tidur = 0\n",
    "else:\n",
    "  stok_tempat_tidur -= jumlah_tempat_tidur\n",
    "\n",
    "jumlah_kursi_makan = int(input(\"Masukkan jumlah meja-kursi makan yang ingin dibeli: \"))\n",
    "if (jumlah_kursi_makan > stok_kursi_makan):\n",
    "  print(\"Stok kursi makan tidak cukup!\")\n",
    "  jumlah_kursi_makan = 0\n",
    "else:\n",
    "  stok_kursi_makan -= jumlah_kursi_makan\n",
    "\n",
    "jumlah_kursi_kerja = int(input(\"Masukkan jumlah meja-kursi kerja yang ingin dibeli: \"))\n",
    "if (jumlah_kursi_kerja > stok_kursi_kerja):\n",
    "  print(\"Stok kursi kerja tidak cukup!\")\n",
    "  jumlah_kursi_kerja = 0\n",
    "else:\n",
    "  stok_kursi_kerja -= jumlah_kursi_kerja\n"
   ]
  },
  {
   "cell_type": "code",
   "execution_count": 20,
   "id": "c6d8ec4b",
   "metadata": {},
   "outputs": [
    {
     "name": "stdout",
     "output_type": "stream",
     "text": [
      "Biaya total: Rp68250000\n"
     ]
    }
   ],
   "source": [
    "# Program Kuitansi Toko FTUI\n",
    "\n",
    "# Perhitungan total harga dan berat\n",
    "total_harga = (jumlah_tempat_tidur * HARGA_TEMPAT_TIDUR) + (jumlah_kursi_makan * HARGA_KURSI_MAKAN) + (jumlah_kursi_kerja * HARGA_KURSI_KERJA)\n",
    "total_berat = (jumlah_tempat_tidur * BERAT_TEMPAT_TIDUR) + (jumlah_kursi_makan * BERAT_KURSI_MAKAN) + (jumlah_kursi_kerja * BERAT_KURSI_KERJA)\n",
    "\n",
    "# Perhitungan Pajak\n",
    "if (total_harga >= BATAS_PAJAK_TIER1):\n",
    "  pajak = total_harga * HARGA_PAJAK_TIER1\n",
    "elif (total_harga >= BATAS_PAJAK_TIER2):\n",
    "  pajak = total_harga * HARGA_PAJAK_TIER2\n",
    "else:\n",
    "  pajak = total_harga * HARGA_PAJAK_TIER3\n",
    "\n",
    "# Perhitungan Diskon\n",
    "if (total_harga >= BATAS_HARGA_DISKON):\n",
    "  if (total_berat >= BATAS_BERAT_DISKON):\n",
    "    diskon = total_harga * DISKON_TIER1\n",
    "  else:\n",
    "    diskon = total_harga * DISKON_TIER2\n",
    "\n",
    "# Perhitungan Biaya Pengiriman\n",
    "if (total_berat >= BATAS_BERAT_TIER1):\n",
    "  biaya_pengiriman = HARGA_BERAT_TIER1\n",
    "elif (total_berat >= BATAS_BERAT_TIER2):\n",
    "  biaya_pengiriman = HARGA_BERAT_TIER2\n",
    "else:\n",
    "  biaya_pengiriman = HARGA_BERAT_TIER3\n",
    "\n",
    "# Perhitungan Waktu Pengiriman berdasarkan waktu pembelian\n",
    "if (waktu_pembelian >= BATAS_WAKTU_PENGIRIMAN):\n",
    "  waktu_pengiriman = 24 # 1 hari\n",
    "  biaya_pengiriman += HARGA_WAKTU_PENGIRIMAN # Biaya pengiriman 50rb\n",
    "else:\n",
    "  waktu_pengiriman = 0\n",
    "\n",
    "# Perhitungan Waktu Pengiriman berdasarkan alamat_pembeli\n",
    "if (alamat_pembeli == \"1\"): # Depok\n",
    "  waktu_pengiriman += 1 # 1 jam\n",
    "elif (alamat_pembeli == \"2\"): # Jakarta\n",
    "  waktu_pengiriman += 2\n",
    "elif (alamat_pembeli == \"3\"): # Bogor\n",
    "  waktu_pengiriman += 3\n",
    "\n",
    "# Perhitungan Total Biaya\n",
    "total_biaya = total_harga + pajak + biaya_pengiriman - diskon\n",
    "total_biaya = round(total_biaya)\n",
    "\n",
    "# Menghitung sampai waktu pengiriman\n",
    "waktu_sampai = waktu_pengiriman + waktu_pembelian\n",
    "\n",
    "print(f\"Biaya total: Rp{total_biaya}000\")"
   ]
  },
  {
   "cell_type": "code",
   "execution_count": 23,
   "id": "bf29c097",
   "metadata": {},
   "outputs": [
    {
     "name": "stdout",
     "output_type": "stream",
     "text": [
      "=== KUITANSI TOKO FTUI ===\n",
      "Nama Pembeli:  a\n",
      "NPM Pembeli:  2\n",
      "Alamat Pembeli:  Jakarta\n",
      "Waktu Pembelian: 12:00\n",
      "Waktu Sampai: 14:00\n",
      "\n",
      "=== RINCIAN BELANJA ===\n",
      "Tempat Tidur:  2 x Rp10000000\n",
      "Meja-Kursi Makan:  3 x Rp8000000\n",
      "Meja-Kursi Kerja:  4 x Rp6000000\n",
      "\n",
      "pajak: Rp3400.0000\n",
      "diskon: Rp3400.0000\n",
      "biaya pengiriman: Rp250000\n",
      "\n",
      "=== TOTAL ===\n",
      "Total Harga: Rp68000000\n"
     ]
    }
   ],
   "source": [
    "# Program Kuitansi Toko FTUI\n",
    "\n",
    "# Print kuitansi\n",
    "\n",
    "print(\"=== KUITANSI TOKO FTUI ===\")\n",
    "print(\"Nama Pembeli: \", nama_pembeli)\n",
    "print(\"NPM Pembeli: \", npm_pembeli)\n",
    "alamat_temp_pemberli = \"\"\n",
    "if (alamat_pembeli == \"1\"):\n",
    "  alamat_temp_pemberli = \"Depok\"\n",
    "elif (alamat_pembeli == \"2\"):\n",
    "  alamat_temp_pemberli = \"Jakarta\"\n",
    "elif (alamat_pembeli == \"3\"):\n",
    "  alamat_temp_pemberli = \"Bogor\"\n",
    "print(\"Alamat Pembeli: \", alamat_temp_pemberli)\n",
    "print(f\"Waktu Pembelian: {waktu_pembelian}:00\")\n",
    "if (waktu_sampai >= 24):\n",
    "  waktu_sampai -= 24 # Menghitung waktu sampai dalam format 24 jam\n",
    "  print(f\"Waktu Sampai: Besok {waktu_sampai}:00\")\n",
    "else:\n",
    "  print(f\"Waktu Sampai: {waktu_sampai}:00\")\n",
    "print(\"\")\n",
    "print(\"=== RINCIAN BELANJA ===\")\n",
    "print(\"Tempat Tidur: \", jumlah_tempat_tidur, f\"x Rp{HARGA_TEMPAT_TIDUR}000\")\n",
    "print(\"Meja-Kursi Makan: \", jumlah_kursi_makan, f\"x Rp{HARGA_KURSI_MAKAN}000\")\n",
    "print(\"Meja-Kursi Kerja: \", jumlah_kursi_kerja, f\"x Rp{HARGA_KURSI_KERJA}000\")\n",
    "print(\"\")\n",
    "print(f\"pajak: Rp{pajak}000\")\n",
    "print(f\"diskon: Rp{diskon}000\")\n",
    "print(f\"biaya pengiriman: Rp{biaya_pengiriman}000\")\n",
    "print(\"\")\n",
    "print(\"=== TOTAL ===\")\n",
    "print(f\"Total Harga: Rp{total_harga}000\")\n"
   ]
  },
  {
   "cell_type": "code",
   "execution_count": 24,
   "id": "5c75564f",
   "metadata": {},
   "outputs": [
    {
     "name": "stdout",
     "output_type": "stream",
     "text": [
      "Sisa Stok Barang:\n",
      "Tempat Tidur:  32\n",
      "Meja-Kursi Makan:  26\n",
      "Meja-Kursi Kerja:  35\n"
     ]
    }
   ],
   "source": [
    "# Program Kuitansi Toko FTUI\n",
    "\n",
    "# Menampilkan sisa stok barang\n",
    "print(\"Sisa Stok Barang:\")\n",
    "print(\"Tempat Tidur: \", stok_tempat_tidur)\n",
    "print(\"Meja-Kursi Makan: \", stok_kursi_makan)\n",
    "print(\"Meja-Kursi Kerja: \", stok_kursi_kerja)"
   ]
  }
 ],
 "metadata": {
  "kernelspec": {
   "display_name": ".venv",
   "language": "python",
   "name": "python3"
  },
  "language_info": {
   "codemirror_mode": {
    "name": "ipython",
    "version": 3
   },
   "file_extension": ".py",
   "mimetype": "text/x-python",
   "name": "python",
   "nbconvert_exporter": "python",
   "pygments_lexer": "ipython3",
   "version": "3.13.2"
  }
 },
 "nbformat": 4,
 "nbformat_minor": 5
}
