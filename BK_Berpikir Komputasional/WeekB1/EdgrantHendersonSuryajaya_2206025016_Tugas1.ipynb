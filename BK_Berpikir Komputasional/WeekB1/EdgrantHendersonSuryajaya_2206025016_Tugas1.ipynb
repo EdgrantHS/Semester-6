{
 "cells": [
  {
   "cell_type": "markdown",
   "id": "3406ff14",
   "metadata": {},
   "source": [
    "# Tugas 1 Setelah UTS - Berpikir Komputasional\n",
    "\n",
    "```plaintext\n",
    "Nama: Edgrant Henderson Suryajaya\n",
    "NPM: 2206025016\n",
    "```"
   ]
  },
  {
   "cell_type": "markdown",
   "id": "3c366a8f",
   "metadata": {},
   "source": [
    "## 1. personal info collector\n",
    "\n",
    "You are new member for the computing club. your first task is to create a program that can: \n",
    "\n",
    "- Ask and store a set of data (full name, nick name, date birth, address, age, height, hobbies, class, language, ) from five\n",
    "different members\n",
    "- Display the data. The displayed data should be in sentence instead Of just the response (e.g. \"the name Of the 1st member is Ferro Yudistira\")\n",
    "- Calculate and display the maximum, nimimum, and average value from the data (age and height). The average value should be display within a sentence and not just the numeric value (e.g. \"The average height of all members is 164.75cm\")"
   ]
  },
  {
   "cell_type": "code",
   "execution_count": 9,
   "id": "1755a361",
   "metadata": {},
   "outputs": [],
   "source": [
    "# Tugas 1 - Personal info collector\n",
    "\n",
    "# Import Library\n",
    "# Perlu mean imported untuk menghitung rata-rata dari library statistics\n",
    "from statistics import mean"
   ]
  },
  {
   "cell_type": "code",
   "execution_count": 10,
   "id": "bfb33b9d",
   "metadata": {},
   "outputs": [],
   "source": [
    "# Tugas 1 - Personal info collector\n",
    "\n",
    "# Inisialisasi variabel\n",
    "full_name_list = [\"\", \"\", \"\", \"\", \"\"]\n",
    "nick_name_list = [\"\", \"\", \"\", \"\", \"\"]\n",
    "birth_date_list = [\"\", \"\", \"\", \"\", \"\"]\n",
    "address_list = [\"\", \"\", \"\", \"\", \"\"]\n",
    "age_list = [0, 0, 0, 0, 0]\n",
    "height_list = [0.0, 0.0, 0.0, 0.0, 0.0]\n",
    "hobbies_list = [\"\", \"\", \"\", \"\", \"\"]\n",
    "class_list = [\"\", \"\", \"\", \"\", \"\"]\n",
    "language_list = [\"\", \"\", \"\", \"\", \"\"]\n",
    "\n",
    "# Loop untuk input seluruh data\n",
    "for i in range(5):\n",
    "  full_name_list[i] = input(f'Enter full name for user {i+1}:')\n",
    "  nick_name_list[i] = input(f'Enter nick name for user {i+1}:')\n",
    "  birth_date_list[i] = input(f'Enter birth date for user {i+1}:')\n",
    "  address_list[i] = input(f'Enter address for user {i+1}:')\n",
    "  age_list[i] = int(input(f'Enter age for user {i+1}:'))\n",
    "  height_list[i] = float(input(f'Enter height for user {i+1}:'))\n",
    "  hobbies_list[i] = input(f'Enter hobbies for user {i+1}:')\n",
    "  class_list[i] = input(f'Enter class for user {i+1}:')\n",
    "  language_list[i] = input(f'Enter language for user {i+1}:')"
   ]
  },
  {
   "cell_type": "code",
   "execution_count": 11,
   "id": "f345cf68",
   "metadata": {},
   "outputs": [
    {
     "name": "stdout",
     "output_type": "stream",
     "text": [
      "The name of user 1 is a, nick name is a, birth date is a, address is a, age is 1, height is 1.0, hobbies are a, class is a, and language is a\n",
      "The name of user 2 is b, nick name is b, birth date is b, address is b, age is 2, height is 2.0, hobbies are b, class is b, and language is b\n",
      "The name of user 3 is c, nick name is c, birth date is c, address is c, age is 3, height is 3.0, hobbies are c, class is c, and language is c\n",
      "The name of user 4 is d, nick name is d, birth date is d, address is d, age is 4, height is 4.0, hobbies are d, class is d, and language is d\n",
      "The name of user 5 is e, nick name is e, birth date is e, address is e, age is 5, height is 5.0, hobbies are e, class is e, and language is e\n",
      "The minimum age is 1, the maximum age is 5, and the average age is 3\n",
      "The minimum height is 1.0, the maximum height is 5.0, and the average height is 3.0\n"
     ]
    }
   ],
   "source": [
    "# Tugas 1 - Personal info collector\n",
    "\n",
    "# Loop untuk menampilkan seluruh data\n",
    "for i in range(5):\n",
    "  print(f'The name of user {i+1} is {full_name_list[i]}, nick name is {nick_name_list[i]}, birth date is {birth_date_list[i]}, address is {address_list[i]}, age is {age_list[i]}, height is {height_list[i]}, hobbies are {hobbies_list[i]}, class is {class_list[i]}, and language is {language_list[i]}')\n",
    "\n",
    "# Mencari min, max, dan average untuk age dan height\n",
    "age_min = min(age_list)\n",
    "age_max = max(age_list)\n",
    "age_average = mean(age_list)\n",
    "height_min = min(height_list)\n",
    "height_max = max(height_list)\n",
    "height_average = mean(height_list)\n",
    "\n",
    "# Print min, max, dan average\n",
    "print(f'The minimum age is {age_min}, the maximum age is {age_max}, and the average age is {age_average}')\n",
    "print(f'The minimum height is {height_min}, the maximum height is {height_max}, and the average height is {height_average}')"
   ]
  },
  {
   "cell_type": "markdown",
   "id": "e137b42e",
   "metadata": {},
   "source": [
    "## 2.  house data tracker\n",
    "\n",
    "Imagine a house that consist of two bedrooms, one bathroom, one living room, one kitchen and one garage. Create a program that can:\n",
    "\n",
    "- Ask and store a set of numeric data for each room in a house, which consist of + numeric data (length, width, height, watt lamp, AC, water tap, windows, doors,) + list of object inside the room (e.g. \"mattress\", \"table\", etc.)\n",
    "- Display the data for each room in the house. The data should be displayed in sentence\n",
    "- Calculate and display the area and volume for each room (in sentence)\n",
    "- Calculate and display the total area and volume for the house (in sentence), the energy used /month, how long time used during day"
   ]
  },
  {
   "cell_type": "code",
   "execution_count": null,
   "id": "44e4e722",
   "metadata": {},
   "outputs": [],
   "source": [
    "# Tugas 2 - House Data Tracker\n",
    "\n",
    "# Import Library\n",
    "# Jika sudah import statistics/jika sudah jalankan program 1, tidak perlu diimport lagi\n",
    "from statistics import mean"
   ]
  },
  {
   "cell_type": "code",
   "execution_count": 65,
   "id": "17aeedd8",
   "metadata": {},
   "outputs": [],
   "source": [
    "# Tugas 2 - House Data Tracker\n",
    "\n",
    "# Inisialisasi Room\n",
    "room_list = [\"Bedroom 1\", \"Bedroom 2\", \"Bathroom\", \"Living Room\", \"Kitchen\", \"Garage\"]\n",
    "number_of_rooms = len(room_list)\n",
    "\n",
    "# Inisialisasi variabel\n",
    "room_length_list = [0.0] * number_of_rooms\n",
    "room_width_list = [0.0] * number_of_rooms\n",
    "room_height_list = [0.0] * number_of_rooms\n",
    "room_lamp_watt_list = [0.0] * number_of_rooms\n",
    "room_AC_watt_list = [0.0] * number_of_rooms # Asumsi yang diminta wattnya, bukan jumlahnya\n",
    "room_water_tap_list = [0] * number_of_rooms # Asumsi yang diminta jumlahnya\n",
    "room_window_list = [0] * number_of_rooms # Asumsi yang diminta jumlahnya\n",
    "room_door_list = [0] * number_of_rooms # Asumsi yang diminta jumlahnya\n",
    "room_object_list = []"
   ]
  },
  {
   "cell_type": "code",
   "execution_count": 66,
   "id": "e1d5adca",
   "metadata": {},
   "outputs": [],
   "source": [
    "# Tugas 2 - House Data Tracker\n",
    "\n",
    "# Ensure room_object_list is initialized as an empty list\n",
    "room_object_list = []\n",
    "\n",
    "# Loop untuk input seluruh data\n",
    "for i in range(number_of_rooms):\n",
    "  room_length_list[i] = float(input(f'Enter length of {room_list[i]}:'))\n",
    "  room_width_list[i] = float(input(f'Enter width of {room_list[i]}:'))\n",
    "  room_height_list[i] = float(input(f'Enter height of {room_list[i]}:'))\n",
    "  room_lamp_watt_list[i] = float(input(f'Enter lamp watt of {room_list[i]}:'))\n",
    "  room_AC_watt_list[i] = float(input(f'Enter AC watt of {room_list[i]}:'))\n",
    "  room_water_tap_list[i] = int(input(f'Enter number of water tap in {room_list[i]}:'))\n",
    "  room_window_list[i] = int(input(f'Enter number of window in {room_list[i]}:'))\n",
    "  room_door_list[i] = int(input(f'Enter number of door in {room_list[i]}:'))\n",
    "  room_object_count = int(input(f'Enter number of object in {room_list[i]}:'))\n",
    "\n",
    "  # Initialize a temporary empty list to store objects for the current room\n",
    "  objects_in_room = []\n",
    "\n",
    "  # Nested loop for inputting objects\n",
    "  for j in range(room_object_count):\n",
    "    object_name = input(f'Enter name of object {j+1} in {room_list[i]}: ')\n",
    "    objects_in_room.append(object_name) # Append the object name to the current room's object list\n",
    "\n",
    "  # Append the list of objects for the current room to the main room_object_list\n",
    "  room_object_list.append(objects_in_room)"
   ]
  },
  {
   "cell_type": "code",
   "execution_count": null,
   "id": "da4f39ec",
   "metadata": {},
   "outputs": [
    {
     "name": "stdout",
     "output_type": "stream",
     "text": [
      "The length of Bedroom 1 is 1.0, width is 1.0, height is 1.0, lamp watt is 1.0, AC watt is 1.0, number of water tap is 1, number of window is 1, number of door is 1, and object is ['1']\n",
      "The length of Bedroom 2 is 2.0, width is 2.0, height is 2.0, lamp watt is 2.0, AC watt is 2.0, number of water tap is 2, number of window is 2, number of door is 2, and object is ['2', '2']\n",
      "The length of Bathroom is 3.0, width is 3.0, height is 3.0, lamp watt is 3.0, AC watt is 3.0, number of water tap is 3, number of window is 3, number of door is 3, and object is ['3']\n",
      "The length of Living Room is 4.0, width is 4.0, height is 4.0, lamp watt is 4.0, AC watt is 4.0, number of water tap is 4, number of window is 4, number of door is 4, and object is ['4']\n",
      "The length of Kitchen is 5.0, width is 5.0, height is 5.0, lamp watt is 5.0, AC watt is 5.0, number of water tap is 5, number of window is 5, number of door is 5, and object is ['5']\n",
      "The length of Garage is 6.0, width is 6.0, height is 6.0, lamp watt is 6.0, AC watt is 6.0, number of water tap is 6, number of window is 6, number of door is 6, and object is ['6']\n"
     ]
    }
   ],
   "source": [
    "# Tugas 2 - House Data Tracker\n",
    "\n",
    "# Loop untuk menampilkan seluruh data\n",
    "for i in range(number_of_rooms):\n",
    "  print(f'The length of {room_list[i]} is {room_length_list[i]}, width is {room_width_list[i]}, height is {room_height_list[i]}, lamp watt is {room_lamp_watt_list[i]}, AC watt is {room_AC_watt_list[i]}, number of water tap is {room_water_tap_list[i]}, number of window is {room_window_list[i]}, number of door is {room_door_list[i]}, and object is {room_object_list[i]}')"
   ]
  },
  {
   "cell_type": "code",
   "execution_count": 70,
   "id": "fd5fd649",
   "metadata": {},
   "outputs": [
    {
     "name": "stdout",
     "output_type": "stream",
     "text": [
      "The volume of Bedroom 1 is 1.0\n",
      "The volume of Bedroom 2 is 8.0\n",
      "The volume of Bathroom is 27.0\n",
      "The volume of Living Room is 64.0\n",
      "The volume of Kitchen is 125.0\n",
      "The volume of Garage is 216.0\n"
     ]
    }
   ],
   "source": [
    "# Tugas 2 - House Data Tracker\n",
    "\n",
    "# Loop untuk menampilkan volume ruangan\n",
    "for i in range(number_of_rooms):\n",
    "  volume = room_length_list[i] * room_width_list[i] * room_height_list[i]\n",
    "  print(f'The volume of {room_list[i]} is {volume}')"
   ]
  },
  {
   "cell_type": "code",
   "execution_count": 73,
   "id": "1ac9d81e",
   "metadata": {},
   "outputs": [
    {
     "name": "stdout",
     "output_type": "stream",
     "text": [
      "The total volume of the house is 441.0 cubic meters\n",
      "The total monthly energy consumption is 1.26 kWh\n",
      "The total daily energy consumption is 0.042 kWh\n"
     ]
    }
   ],
   "source": [
    "# Tugas 2 - House Data Tracker\n",
    "\n",
    "# Menampilkan volume total dan pemakaian energy\n",
    "total_volume = 0.0\n",
    "total_energy = 0.0\n",
    "for i in range(number_of_rooms):\n",
    "  total_volume += room_length_list[i] * room_width_list[i] * room_height_list[i]\n",
    "  total_energy += room_lamp_watt_list[i] + room_AC_watt_list[i]\n",
    "\n",
    "print(f'The total volume of the house is {total_volume} cubic meters')\n",
    "print(f'The total monthly energy consumption is {total_energy*30/1000} kWh')\n",
    "print(f'The total daily energy consumption is {total_energy/1000} kWh')"
   ]
  }
 ],
 "metadata": {
  "kernelspec": {
   "display_name": ".venv",
   "language": "python",
   "name": "python3"
  },
  "language_info": {
   "codemirror_mode": {
    "name": "ipython",
    "version": 3
   },
   "file_extension": ".py",
   "mimetype": "text/x-python",
   "name": "python",
   "nbconvert_exporter": "python",
   "pygments_lexer": "ipython3",
   "version": "3.13.2"
  }
 },
 "nbformat": 4,
 "nbformat_minor": 5
}
