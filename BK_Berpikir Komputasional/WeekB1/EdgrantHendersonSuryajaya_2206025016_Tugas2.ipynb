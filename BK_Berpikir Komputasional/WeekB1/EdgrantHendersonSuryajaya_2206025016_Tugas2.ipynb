{
 "cells": [
  {
   "cell_type": "markdown",
   "id": "9b1fe2e3",
   "metadata": {},
   "source": [
    "\n",
    "# Tugas 2 Setelah UTS - Berpikir Komputasional\n",
    "\n",
    "```plaintext\n",
    "Nama: Edgrant Henderson Suryajaya\n",
    "NPM: 2206025016\n",
    "```"
   ]
  },
  {
   "cell_type": "code",
   "execution_count": null,
   "id": "06380941",
   "metadata": {},
   "outputs": [],
   "source": [
    "# 1. Assign the value 2 to the variable x and the value 3 to the variable y. Clear just the variable x.\n",
    "\n",
    "x = 2\n",
    "y = 3\n",
    "del x"
   ]
  },
  {
   "cell_type": "code",
   "execution_count": 5,
   "id": "ad127ccc",
   "metadata": {},
   "outputs": [
    {
     "ename": "NameError",
     "evalue": "name 'x' is not defined",
     "output_type": "error",
     "traceback": [
      "\u001b[31m---------------------------------------------------------------------------\u001b[39m",
      "\u001b[31mNameError\u001b[39m                                 Traceback (most recent call last)",
      "\u001b[36mCell\u001b[39m\u001b[36m \u001b[39m\u001b[32mIn[5]\u001b[39m\u001b[32m, line 4\u001b[39m\n\u001b[32m      1\u001b[39m \u001b[38;5;66;03m## 2. Write a line of code that generates the following error:\u001b[39;00m\n\u001b[32m      2\u001b[39m \u001b[38;5;66;03m## NameError: name 'x' is not defined\u001b[39;00m\n\u001b[32m----> \u001b[39m\u001b[32m4\u001b[39m \u001b[43mx\u001b[49m\n",
      "\u001b[31mNameError\u001b[39m: name 'x' is not defined"
     ]
    }
   ],
   "source": [
    "## 2. Write a line of code that generates the following error:\n",
    "## NameError: name 'x' is not defined\n",
    "\n",
    "x"
   ]
  },
  {
   "cell_type": "code",
   "execution_count": null,
   "id": "6743b60f",
   "metadata": {},
   "outputs": [],
   "source": [
    "## 3. Let x = 10 and y = 3. Write a line of code that will make each of the following assignments.\n",
    "\n",
    "'''\n",
    "* u = x + y\n",
    "* v = xy\n",
    "* w = x/y\n",
    "* z = sin(x)\n",
    "* r = 8sin(x)\n",
    "* s = 5sin(xy)\n",
    "* p = x**y\n",
    "'''\n",
    "\n",
    "import math\n",
    "\n",
    "x = 10\n",
    "y = 3\n",
    "u = x + y\n",
    "v = x * y\n",
    "w = x / y\n",
    "z = math.sin(x)\n",
    "r = 8 * math.sin(x)\n",
    "s = 5 * math.sin(x * y)\n",
    "p = x ** y"
   ]
  },
  {
   "cell_type": "code",
   "execution_count": null,
   "id": "38dfd818",
   "metadata": {},
   "outputs": [],
   "source": [
    "## 4. Show all the variables in the Jupyter notebook after you finish problem 3.\n",
    "print(u, v, w, z, r, s, p)"
   ]
  },
  {
   "cell_type": "code",
   "execution_count": 9,
   "id": "85c15c08",
   "metadata": {},
   "outputs": [
    {
     "name": "stdout",
     "output_type": "stream",
     "text": [
      "<class 'str'> <class 'float'>\n"
     ]
    }
   ],
   "source": [
    "## 5. Assign string ‘123’ to the variable S. Convert the string into a float type and assign the output to the variable N. Verify that S is a string and N is a float using the type function.\n",
    "\n",
    "S = '123'\n",
    "N = float(S)\n",
    "print(type(S), type(N))"
   ]
  },
  {
   "cell_type": "code",
   "execution_count": null,
   "id": "38b75081",
   "metadata": {},
   "outputs": [
    {
     "name": "stdout",
     "output_type": "stream",
     "text": [
      "False\n",
      "True\n"
     ]
    }
   ],
   "source": [
    "## 6. Assign the string ‘HELLO’ to the variable s1 and the string ‘hello’ to the variable s2. Use the == operator to show that they are not equal. Use the == operator to show that s1 and s2 are equal if the lower method is used on s1. Use the == operator to show that s1 and s2 are equal if the upper method is used on s2.\n",
    "\n",
    "s1 = 'HELLO'\n",
    "s2 = 'hello'\n",
    "\n",
    "print(s1 == s2)\n",
    "print(s1.lower() == s2.lower())"
   ]
  },
  {
   "cell_type": "code",
   "execution_count": 12,
   "id": "82f49c4f",
   "metadata": {},
   "outputs": [
    {
     "name": "stdout",
     "output_type": "stream",
     "text": [
      "The word \"Engineering\" has 11 letters.\n",
      "The word \"Book\" has 4 letters.\n"
     ]
    }
   ],
   "source": [
    "## 7. Use the print function to generate the following strings.\n",
    "\n",
    "'''\n",
    "* The world ‘Engineering’ has 11 letters.\n",
    "* The word ‘Book’ has 4 letters.\n",
    "'''\n",
    "\n",
    "print(f'The word \"Engineering\" has {len(\"Engineering\")} letters.')\n",
    "print(f'The word \"Book\" has {len(\"Book\")} letters.')"
   ]
  },
  {
   "cell_type": "code",
   "execution_count": 13,
   "id": "88483582",
   "metadata": {},
   "outputs": [
    {
     "name": "stdout",
     "output_type": "stream",
     "text": [
      "True\n"
     ]
    }
   ],
   "source": [
    "## 8. Check if ‘Python’ is in ‘Python is great!’.\n",
    "\n",
    "print('Python' in 'Python is great!')"
   ]
  },
  {
   "cell_type": "code",
   "execution_count": 14,
   "id": "77295d4e",
   "metadata": {},
   "outputs": [
    {
     "name": "stdout",
     "output_type": "stream",
     "text": [
      "great!\n"
     ]
    }
   ],
   "source": [
    "## 9. Get the last word ‘great’ from ‘Python is great!’\n",
    "\n",
    "print('Python is great!'.split()[-1])"
   ]
  },
  {
   "cell_type": "code",
   "execution_count": 15,
   "id": "28f4ad4f",
   "metadata": {},
   "outputs": [
    {
     "name": "stdout",
     "output_type": "stream",
     "text": [
      "[1, 2, 8, 9, 15, 4]\n"
     ]
    }
   ],
   "source": [
    "## 10. Assign list [1, 8, 9, 15] to a variable list_a and insert 2 at index 1 using the insert method. Append 4 to the list_a using the append method.\n",
    "\n",
    "list_a = [1, 8, 9, 15]\n",
    "list_a.insert(1, 2)\n",
    "list_a.append(4)\n",
    "print(list_a)"
   ]
  },
  {
   "cell_type": "code",
   "execution_count": 17,
   "id": "705daaf9",
   "metadata": {},
   "outputs": [
    {
     "name": "stdout",
     "output_type": "stream",
     "text": [
      "[1, 2, 4, 8, 9, 15]\n"
     ]
    }
   ],
   "source": [
    "## 11. Sort the list_a in problem 10 in ascending order.\n",
    "\n",
    "list_a.sort()\n",
    "print(list_a)"
   ]
  },
  {
   "cell_type": "code",
   "execution_count": 19,
   "id": "ff231a33",
   "metadata": {},
   "outputs": [
    {
     "name": "stdout",
     "output_type": "stream",
     "text": [
      "['P', 'y', 't', 'h', 'o', 'n', ' ', 'i', 's', ' ', 'g', 'r', 'e', 'a', 't', '!']\n"
     ]
    }
   ],
   "source": [
    "## 12. Turn ‘Python is great!’ to a list.\n",
    "\n",
    "list_python_is_great = list('Python is great!')\n",
    "print(list_python_is_great)"
   ]
  },
  {
   "cell_type": "code",
   "execution_count": 20,
   "id": "b053d8a1",
   "metadata": {},
   "outputs": [
    {
     "name": "stdout",
     "output_type": "stream",
     "text": [
      "('One', 1)\n"
     ]
    }
   ],
   "source": [
    "## 13. Create one tuple with element ‘One’, 1 and assign it to tuple_a\n",
    "\n",
    "tuple_a = ('One', 1)\n",
    "print(tuple_a)"
   ]
  },
  {
   "cell_type": "code",
   "execution_count": 21,
   "id": "1caabd97",
   "metadata": {},
   "outputs": [
    {
     "name": "stdout",
     "output_type": "stream",
     "text": [
      "1\n"
     ]
    }
   ],
   "source": [
    "## 14. Get the 2nd element in the tuple_a in problem 13.\n",
    "\n",
    "print(tuple_a[1])"
   ]
  },
  {
   "cell_type": "code",
   "execution_count": null,
   "id": "bb979936",
   "metadata": {},
   "outputs": [
    {
     "name": "stdout",
     "output_type": "stream",
     "text": [
      "{1, 2, 3, 5}\n"
     ]
    }
   ],
   "source": [
    "## 14a. Get the unique element from (2, 3, 2, 3, 1, 2, 5).\n",
    "\n",
    "unique_elements = set((2, 3, 2, 3, 1, 2, 5))\n",
    "print(unique_elements)"
   ]
  },
  {
   "cell_type": "code",
   "execution_count": null,
   "id": "bd14549f",
   "metadata": {},
   "outputs": [
    {
     "name": "stdout",
     "output_type": "stream",
     "text": [
      "{1, 2, 3}\n",
      "{2, 3}\n",
      "set()\n"
     ]
    }
   ],
   "source": [
    "## 15. Assign (2, 3, 2) to set_a, and (1, 2, 3) to set_b. Get the following:\n",
    "\n",
    "'''\n",
    "* union of `set_a` and `set_b`\n",
    "* intersection of `set_a` and `set_b`\n",
    "* difference of `set_a` to `set_b` using the `difference()` method\n",
    "'''\n",
    "\n",
    "set_a = {2, 3, 2}\n",
    "set_b = {1, 2, 3}\n",
    "\n",
    "print(set_a.union(set_b))\n",
    "print(set_a.intersection(set_b))\n",
    "print(set_a.difference(set_b))"
   ]
  },
  {
   "cell_type": "code",
   "execution_count": null,
   "id": "bedd76dd",
   "metadata": {},
   "outputs": [
    {
     "name": "stdout",
     "output_type": "stream",
     "text": [
      "dict_keys(['A', 'B', 'C'])\n"
     ]
    }
   ],
   "source": [
    "## 16. Create a dictionary that has the keys ‘A’, ‘B’, ‘C’ with values ‘a’, ‘b’, ‘c’ individually. Print all the keys in the dictionary.\n",
    "\n",
    "dict_a = {'A': 'a', 'B': 'b', 'C': 'c'}\n",
    "print(dict_a.keys())"
   ]
  },
  {
   "cell_type": "code",
   "execution_count": null,
   "id": "c64733b7",
   "metadata": {},
   "outputs": [
    {
     "name": "stdout",
     "output_type": "stream",
     "text": [
      "True\n"
     ]
    }
   ],
   "source": [
    "## 17. Check if key ‘B’ is in the dictionary defined in problem 17.\n",
    "\n",
    "print('B' in dict_a)"
   ]
  },
  {
   "cell_type": "code",
   "execution_count": null,
   "id": "e361c0c7",
   "metadata": {},
   "outputs": [
    {
     "name": "stdout",
     "output_type": "stream",
     "text": [
      "u: 3, v: 2, w: 0.5, z: 0.8414709848078965, r: 6.731767878463172, s: 4.546487134128409, p: 1\n",
      "u: 7, v: 12, w: 1.3333333333333333, z: -0.7568024953079282, r: -6.054419962463426, s: -2.6828645900021746, p: 64\n",
      "u: 7, v: 12, w: 0.75, z: 0.1411200080598672, r: 1.1289600644789377, s: -2.6828645900021746, p: 81\n",
      "u: 3, v: 2, w: 2.0, z: 0.9092974268256817, r: 7.274379414605454, s: 4.546487134128409, p: 2\n",
      "u: 11, v: 18, w: 4.5, z: 0.4121184852417566, r: 3.2969478819340527, s: -3.754936233858381, p: 81\n",
      "u: 7, v: 12, w: 1.3333333333333333, z: -0.7568024953079282, r: -6.054419962463426, s: -2.6828645900021746, p: 64\n"
     ]
    }
   ],
   "source": [
    "## 18. Create array x and y, where x = [1, 4, 3, 2, 9, 4] and y=[2, 3, 4, 1, 2, 3]. Compute the assignments from Problem 3.\n",
    "\n",
    "'''\n",
    "* u = x + y\n",
    "* v = xy\n",
    "* w = x/y\n",
    "* z = sin(x)\n",
    "* r = 8sin(x)\n",
    "* s = 5sin(xy)\n",
    "* p = x**y\n",
    "'''\n",
    "\n",
    "x = [1, 4, 3, 2, 9, 4]\n",
    "y = [2, 3, 4, 1, 2, 3]\n",
    "\n",
    "for i in range(len(x)):\n",
    "    u = x[i] + y[i]\n",
    "    v = x[i] * y[i]\n",
    "    w = x[i] / y[i]\n",
    "    z = math.sin(x[i])\n",
    "    r = 8 * math.sin(x[i])\n",
    "    s = 5 * math.sin(x[i] * y[i])\n",
    "    p = x[i] ** y[i]\n",
    "\n",
    "    print(f\"u: {u}, v: {v}, w: {w}, z: {z}, r: {r}, s: {s}, p: {p}\")\n"
   ]
  },
  {
   "cell_type": "code",
   "execution_count": null,
   "id": "5c7983ed",
   "metadata": {},
   "outputs": [
    {
     "name": "stdout",
     "output_type": "stream",
     "text": [
      "[-10.          -9.7979798   -9.5959596   -9.39393939  -9.19191919\n",
      "  -8.98989899  -8.78787879  -8.58585859  -8.38383838  -8.18181818\n",
      "  -7.97979798  -7.77777778  -7.57575758  -7.37373737  -7.17171717\n",
      "  -6.96969697  -6.76767677  -6.56565657  -6.36363636  -6.16161616\n",
      "  -5.95959596  -5.75757576  -5.55555556  -5.35353535  -5.15151515\n",
      "  -4.94949495  -4.74747475  -4.54545455  -4.34343434  -4.14141414\n",
      "  -3.93939394  -3.73737374  -3.53535354  -3.33333333  -3.13131313\n",
      "  -2.92929293  -2.72727273  -2.52525253  -2.32323232  -2.12121212\n",
      "  -1.91919192  -1.71717172  -1.51515152  -1.31313131  -1.11111111\n",
      "  -0.90909091  -0.70707071  -0.50505051  -0.3030303   -0.1010101\n",
      "   0.1010101    0.3030303    0.50505051   0.70707071   0.90909091\n",
      "   1.11111111   1.31313131   1.51515152   1.71717172   1.91919192\n",
      "   2.12121212   2.32323232   2.52525253   2.72727273   2.92929293\n",
      "   3.13131313   3.33333333   3.53535354   3.73737374   3.93939394\n",
      "   4.14141414   4.34343434   4.54545455   4.74747475   4.94949495\n",
      "   5.15151515   5.35353535   5.55555556   5.75757576   5.95959596\n",
      "   6.16161616   6.36363636   6.56565657   6.76767677   6.96969697\n",
      "   7.17171717   7.37373737   7.57575758   7.77777778   7.97979798\n",
      "   8.18181818   8.38383838   8.58585859   8.78787879   8.98989899\n",
      "   9.19191919   9.39393939   9.5959596    9.7979798   10.        ]\n"
     ]
    }
   ],
   "source": [
    "## 19. Generate an array with size 100 evenly spaced between -10 to 10 using linspace function in Numpy.\n",
    "\n",
    "import numpy as np\n",
    "x = np.linspace(-10, 10, 100)\n",
    "print(x)"
   ]
  },
  {
   "cell_type": "code",
   "execution_count": null,
   "id": "1e3d7587",
   "metadata": {},
   "outputs": [
    {
     "name": "stdout",
     "output_type": "stream",
     "text": [
      "[1 2 3]\n"
     ]
    }
   ],
   "source": [
    "## 20. Let array_a be an array [-1, 0, 1, 2, 0, 3]. Write a command that will return an array consisting of all the elements of array_a that are larger than zero. Hint: Use logical expression as the index of the array.\n",
    "\n",
    "array_a = np.array([-1, 0, 1, 2, 0, 3])\n",
    "array_filter = array_a[array_a > 0]\n",
    "print(array_filter)"
   ]
  },
  {
   "cell_type": "code",
   "execution_count": null,
   "id": "51294ab0",
   "metadata": {},
   "outputs": [
    {
     "name": "stdout",
     "output_type": "stream",
     "text": [
      "[[3 2 3]\n",
      " [5 2 8]\n",
      " [3 5 9]]\n"
     ]
    }
   ],
   "source": [
    "## 21. Create an array\n",
    "\n",
    "'''\n",
    "3 5 3\n",
    "2 2 5\n",
    "3 8 9\n",
    "'''\n",
    "\n",
    "# and calculate the transpose of the array.\n",
    "\n",
    "array_before = np.array([[3, 5, 3], [2, 2, 5], [3, 8, 9]])\n",
    "array_after = array_before.T\n",
    "print(array_after)"
   ]
  },
  {
   "cell_type": "code",
   "execution_count": null,
   "id": "81b9d5db",
   "metadata": {},
   "outputs": [
    {
     "name": "stdout",
     "output_type": "stream",
     "text": [
      "[[0. 0. 0. 0.]\n",
      " [0. 0. 0. 0.]]\n"
     ]
    }
   ],
   "source": [
    "## 22. Create a zero array with size (2, 4).\n",
    "\n",
    "zero_array = np.zeros((2, 4))\n",
    "print(zero_array)"
   ]
  },
  {
   "cell_type": "code",
   "execution_count": null,
   "id": "b853e426",
   "metadata": {},
   "outputs": [
    {
     "name": "stdout",
     "output_type": "stream",
     "text": [
      "[[0. 1. 0. 0.]\n",
      " [0. 1. 0. 0.]]\n"
     ]
    }
   ],
   "source": [
    "## 23. Change the 2nd column in the above array to 1.\n",
    "\n",
    "zero_array[:, 1] = 1\n",
    "print(zero_array)"
   ]
  },
  {
   "cell_type": "code",
   "execution_count": null,
   "id": "9d85fd6b",
   "metadata": {},
   "outputs": [],
   "source": [
    "## 24. Write a cell magic to clear all the variables in the Jupyter notebook\n",
    "\n",
    "del globals()['x']\n",
    "del globals()['y']\n",
    "del globals()['u']\n",
    "del globals()['v']\n",
    "del globals()['w']\n",
    "del globals()['z']\n",
    "del globals()['r']\n",
    "del globals()['s']\n",
    "del globals()['p']\n",
    "del globals()['S']\n",
    "del globals()['N']\n",
    "del globals()['s1']\n",
    "del globals()['s2']\n",
    "del globals()['list_a']\n",
    "del globals()['list_python_is_great']\n",
    "del globals()['tuple_a']\n",
    "del globals()['unique_elements']\n",
    "del globals()['set_a']\n",
    "del globals()['set_b']\n",
    "del globals()['dict_a']\n",
    "del globals()['array_a']\n",
    "del globals()['array_before']\n",
    "del globals()['array_after']\n",
    "del globals()['zero_array']"
   ]
  },
  {
   "cell_type": "code",
   "execution_count": null,
   "id": "b410ade2",
   "metadata": {},
   "outputs": [
    {
     "name": "stdout",
     "output_type": "stream",
     "text": [
      "I love Python\n"
     ]
    }
   ],
   "source": [
    "## 25. Print “I love Python” using Python Shell.\n",
    "\n",
    "# Saya menggunakan windows\n",
    "!python -c \"print('I love Python')\""
   ]
  },
  {
   "cell_type": "code",
   "execution_count": null,
   "id": "966b0306",
   "metadata": {},
   "outputs": [
    {
     "name": "stdout",
     "output_type": "stream",
     "text": [
      "I love Python\n"
     ]
    }
   ],
   "source": [
    "## 26. Print “I love Python” by typing it into a .py file and run it from command line.\n",
    "\n",
    "# Saya menggunakan windows\n",
    "!echo print('I love Python') > love_python.py\n",
    "!python love_python.py"
   ]
  },
  {
   "cell_type": "code",
   "execution_count": null,
   "id": "7e484e54",
   "metadata": {},
   "outputs": [],
   "source": [
    "## 27. Type import antigravity in the Ipython Shell, it will take you to xkcd and see the awesome Python.\n",
    "\n",
    "# Saya menggunakan windows\n",
    "!python -c \"import antigravity\""
   ]
  },
  {
   "cell_type": "code",
   "execution_count": null,
   "id": "9538c358",
   "metadata": {},
   "outputs": [
    {
     "name": "stderr",
     "output_type": "stream",
     "text": [
      "A subdirectory or file excercise already exists.\n"
     ]
    }
   ],
   "source": [
    "## 28. Launch a new Jupyter notebook server in a folder called “excercise” and create a new Python notebook with the name “excercise_1”, then you can do the rest of the problems within this notebook."
   ]
  },
  {
   "cell_type": "code",
   "execution_count": null,
   "id": "b8cf1acb",
   "metadata": {},
   "outputs": [
    {
     "name": "stdout",
     "output_type": "stream",
     "text": [
      "Area of triangle: 60.0\n"
     ]
    }
   ],
   "source": [
    "## 29. Compute the area of a triangle with base 10 and height 12. Recall that the area of a triangle is half the base times the height.\n",
    "\n",
    "base = 10\n",
    "height = 12\n",
    "area = 0.5 * base * height\n",
    "print(f\"Area of triangle: {area}\")"
   ]
  },
  {
   "cell_type": "code",
   "execution_count": null,
   "id": "bbc924e9",
   "metadata": {},
   "outputs": [
    {
     "name": "stdout",
     "output_type": "stream",
     "text": [
      "Surface area of cylinder: 251.32741228718345\n",
      "Volume of cylinder: 235.61944901923448\n"
     ]
    }
   ],
   "source": [
    "## 30. Compute the surface area and volume of a cylinder with radius 5 and height 3.\n",
    "\n",
    "import math\n",
    "\n",
    "radius = 5\n",
    "height = 3\n",
    "surface_area = 2 * math.pi * radius * (radius + height)\n",
    "volume = math.pi * radius**2 * height\n",
    "print(f\"Surface area of cylinder: {surface_area}\")\n",
    "print(f\"Volume of cylinder: {volume}\")"
   ]
  },
  {
   "cell_type": "code",
   "execution_count": null,
   "id": "7dfea860",
   "metadata": {},
   "outputs": [
    {
     "name": "stdout",
     "output_type": "stream",
     "text": [
      "Slope between points (3,4) and (5,9): 2.5\n"
     ]
    }
   ],
   "source": [
    "## 31 dan 32. Compute the slope between the points (3,4) and (5,9) Recall that the slope between points (x1,y1) and (x2,y2) is y2−y1x2−x1 .\n",
    "\n",
    "x1, y1 = 3, 4\n",
    "x2, y2 = 5, 9\n",
    "slope = (y2 - y1) / (x2 - x1)\n",
    "print(f\"Slope between points (3,4) and (5,9): {slope}\")"
   ]
  },
  {
   "cell_type": "code",
   "execution_count": 49,
   "id": "a70d7f3a",
   "metadata": {},
   "outputs": [
    {
     "name": "stdout",
     "output_type": "stream",
     "text": [
      "Distance between points (3,4) and (5,9): 5.385164807134504\n"
     ]
    }
   ],
   "source": [
    "## 33. Compute the distance between the points (3,4) and (5,9). Recall that the distance between points in two dimensions \n",
    "\n",
    "x1, y1 = 3, 4\n",
    "x2, y2 = 5, 9\n",
    "distance = math.sqrt((x2 - x1)**2 + (y2 - y1)**2)\n",
    "print(f\"Distance between points (3,4) and (5,9): {distance}\")"
   ]
  },
  {
   "cell_type": "code",
   "execution_count": null,
   "id": "ad17c16c",
   "metadata": {},
   "outputs": [
    {
     "name": "stdout",
     "output_type": "stream",
     "text": [
      "6! = 720\n"
     ]
    }
   ],
   "source": [
    "## 34. Use Python’s factorial function to compute 6!\n",
    "\n",
    "import math\n",
    "factorial_6 = math.factorial(6)\n",
    "print(f\"6! = {factorial_6}\")"
   ]
  },
  {
   "cell_type": "code",
   "execution_count": 50,
   "id": "cf18052f",
   "metadata": {},
   "outputs": [
    {
     "name": "stdout",
     "output_type": "stream",
     "text": [
      "Leap years between 1500 and 2010: [1504, 1508, 1512, 1516, 1520, 1524, 1528, 1532, 1536, 1540, 1544, 1548, 1552, 1556, 1560, 1564, 1568, 1572, 1576, 1580, 1584, 1588, 1592, 1596, 1600, 1604, 1608, 1612, 1616, 1620, 1624, 1628, 1632, 1636, 1640, 1644, 1648, 1652, 1656, 1660, 1664, 1668, 1672, 1676, 1680, 1684, 1688, 1692, 1696, 1704, 1708, 1712, 1716, 1720, 1724, 1728, 1732, 1736, 1740, 1744, 1748, 1752, 1756, 1760, 1764, 1768, 1772, 1776, 1780, 1784, 1788, 1792, 1796, 1804, 1808, 1812, 1816, 1820, 1824, 1828, 1832, 1836, 1840, 1844, 1848, 1852, 1856, 1860, 1864, 1868, 1872, 1876, 1880, 1884, 1888, 1892, 1896, 1904, 1908, 1912, 1916, 1920, 1924, 1928, 1932, 1936, 1940, 1944, 1948, 1952, 1956, 1960, 1964, 1968, 1972, 1976, 1980, 1984, 1988, 1992, 1996, 2000, 2004, 2008]\n"
     ]
    }
   ],
   "source": [
    "## 35. A year is considered to be 365 days long. However, a more exact figure is 365.24 days. As a consequence, if we held to the standard 365-day year, we would gradually lose that fraction of the day over time, and seasons and other astronomical events would not occur as expected. A leap year is a year that has an extra day, February 29, to keep the timescale on track. Leap years occur on years that are exactly divisible by 4, unless it is exactly divisible by 100, unless it is divisible by 400. For example, the year 2004 is a leap year, the year 1900 is not a leap year, and the year 2000 is a leap year. Compute the number of leap years between the years 1500 and 2010.\n",
    "\n",
    "\n",
    "leap_years = []\n",
    "for year in range(1500, 2011):\n",
    "    if (year % 4 == 0 and year % 100 != 0) or (year % 400 == 0):\n",
    "        leap_years.append(year)\n",
    "print(f\"Leap years between 1500 and 2010: {leap_years}\")"
   ]
  }
 ],
 "metadata": {
  "kernelspec": {
   "display_name": ".venv",
   "language": "python",
   "name": "python3"
  },
  "language_info": {
   "codemirror_mode": {
    "name": "ipython",
    "version": 3
   },
   "file_extension": ".py",
   "mimetype": "text/x-python",
   "name": "python",
   "nbconvert_exporter": "python",
   "pygments_lexer": "ipython3",
   "version": "3.13.2"
  }
 },
 "nbformat": 4,
 "nbformat_minor": 5
}
